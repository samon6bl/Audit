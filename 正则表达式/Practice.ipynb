{
 "cells": [
  {
   "cell_type": "markdown",
   "source": [
    "# Python 正则表达式的三个函数\n",
    " - re.match()\n",
    " - re.search()\n",
    " - re.findall()\n",
    "## re.match()练习\n",
    "### 1.1.取出字符串中的数字"
   ],
   "metadata": {}
  },
  {
   "cell_type": "code",
   "execution_count": 1,
   "source": [
    "import re\n",
    "\n",
    "content = 'Hello 1234567 is a number. Regex String'\n",
    "result = re.match('^Hello (\\d+).*String$', content)\n",
    "# \"^Hello \" 匹配字符串开头; (\\d+) 匹配任意个数字; .* 匹配任意字符(换行符除外); \n",
    "# String$ 匹配字符串结尾\n",
    "if result:\n",
    "    print(result.group(1)) # 取出第一个括号的内容, 即(\\d+)中的数字"
   ],
   "outputs": [
    {
     "output_type": "stream",
     "name": "stdout",
     "text": [
      "1234567\n"
     ]
    }
   ],
   "metadata": {}
  },
  {
   "cell_type": "markdown",
   "source": [
    "### 1.2 改进1.1的匹配模式"
   ],
   "metadata": {}
  },
  {
   "cell_type": "code",
   "execution_count": 7,
   "source": [
    "content = 'Hello 1234567 is a number. Regex String'\n",
    "result = re.match('.*(\\d+).*', content)\n",
    "# 使用.*匹配其他所有字符, (\\d+)匹配我们想要的数字\n",
    "if result:\n",
    "    print(result.group(1))"
   ],
   "outputs": [
    {
     "output_type": "stream",
     "name": "stdout",
     "text": [
      "7\n"
     ]
    }
   ],
   "metadata": {}
  },
  {
   "cell_type": "markdown",
   "source": [
    "### 1.3 改进1.2的匹配模式（非贪婪模式）\n"
   ],
   "metadata": {}
  },
  {
   "cell_type": "code",
   "execution_count": 8,
   "source": [
    "content = 'Hello 1234567 is a number. Regex String'\n",
    "result = re.match('.*?(\\d+).*', content)\n",
    "# 在 .* 后面加 ? 就可以使用非贪婪模式\n",
    "if result:\n",
    "    print(result.group(1))"
   ],
   "outputs": [
    {
     "output_type": "stream",
     "name": "stdout",
     "text": [
      "1234567\n"
     ]
    }
   ],
   "metadata": {}
  },
  {
   "cell_type": "markdown",
   "source": [
    "### 1.4 多行匹配\n"
   ],
   "metadata": {}
  },
  {
   "cell_type": "code",
   "execution_count": 16,
   "source": [
    "content = '''Hello is a number. \n",
    "           Regex String 1234567'''  # 把数字换到第二行\n",
    "result = re.match('.*?(\\d+).*', content)\n",
    "# 在 .* 后面加 ? 就可以使用非贪婪模式\n",
    "if result:\n",
    "    print(result.group(1))\n",
    "\n",
    "# 没有输出结果"
   ],
   "outputs": [],
   "metadata": {}
  },
  {
   "cell_type": "code",
   "execution_count": 17,
   "source": [
    "result = re.match('.*?(\\d+).*', content, flags=re.S)\n",
    "# flags设置是否区分大小写，多行匹配等：re.S设置'.'可以匹配换行符, re.I忽略大小写...\n",
    "if result:\n",
    "    print(result.group(1))"
   ],
   "outputs": [
    {
     "output_type": "stream",
     "name": "stdout",
     "text": [
      "1234567\n"
     ]
    }
   ],
   "metadata": {}
  },
  {
   "cell_type": "markdown",
   "source": [
    "## 2 re.search 函数\n",
    "### 2.1 match和search的对比"
   ],
   "metadata": {}
  },
  {
   "cell_type": "code",
   "execution_count": 18,
   "source": [
    "content = 'Extra stings Hello 1234567 World_This is a Regex Demo Extra stings'\n",
    "result = re.match('Hello.*?(\\d+).*?Demo', content)\n",
    "print(result)\n",
    "# match没有匹配, 字符串不是Extra开头\n",
    "\n",
    "result = re.search('Hello.*?(\\d+).*?Demo', content)\n",
    "print(result.group(1))\n",
    "\n",
    "# re.match只匹配字符串的开始，如果字符串开始不符合正则表达式，则匹配失败，函数返回None\n",
    "# 而re.search匹配整个字符串，直到找到一个匹配"
   ],
   "outputs": [
    {
     "output_type": "stream",
     "name": "stdout",
     "text": [
      "None\n",
      "1234567\n"
     ]
    }
   ],
   "metadata": {}
  },
  {
   "cell_type": "markdown",
   "source": [
    "## 3. re.findall 函数"
   ],
   "metadata": {}
  },
  {
   "cell_type": "code",
   "execution_count": 21,
   "source": [
    "# 取出html中的歌手名和歌名\n",
    "html = '''<div id=\"songs-list\">\n",
    "    <h2 class=\"title\">经典老歌</h2>\n",
    "    <p class=\"introduction\">\n",
    "        经典老歌列表\n",
    "    </p>\n",
    "    <ul id=\"list\" class=\"list-group\">\n",
    "        <li data-view=\"2\">一路上有你</li>\n",
    "        <li data-view=\"7\">\n",
    "            <a href=\"/2.mp3\" singer=\"任贤齐\">沧海一声笑</a>\n",
    "        </li>\n",
    "        <li data-view=\"4\" class=\"active\">\n",
    "            <a href=\"/3.mp3\" singer=\"齐秦\">往事随风</a>\n",
    "        </li>\n",
    "        <li data-view=\"6\"><a href=\"/4.mp3\" singer=\"beyond\">光辉岁月</a></li>\n",
    "        <li data-view=\"5\"><a href=\"/5.mp3\" singer=\"陈慧琳\">记事本</a></li>\n",
    "        <li data-view=\"5\">\n",
    "            <a href=\"/6.mp3\" singer=\"邓丽君\">但愿人长久</a>\n",
    "        </li>\n",
    "    </ul>\n",
    "</div>'''\n",
    "\n",
    "# 使用search\n",
    "result = re.search('<a.*?singer=\"(.*?)\">(.*?)</a>', html)\n",
    "# 歌手名和歌名都在<a>标签中, 从 <a 开始匹配\n",
    "if result:\n",
    "    print(result.group(1), result.group(2))\n",
    "    \n",
    "# 使用findall\n",
    "result = re.findall('<a.*?singer=\"(.*?)\">(.*?)</a>', html)\n",
    "if result:\n",
    "    print(result)\n"
   ],
   "outputs": [
    {
     "output_type": "stream",
     "name": "stdout",
     "text": [
      "任贤齐 沧海一声笑\n",
      "[('任贤齐', '沧海一声笑'), ('齐秦', '往事随风'), ('beyond', '光辉岁月'), ('陈慧琳', '记事本'), ('邓丽君', '但愿人长久')]\n"
     ]
    }
   ],
   "metadata": {}
  },
  {
   "cell_type": "code",
   "execution_count": 22,
   "source": [
    "import requests\n",
    "import re\n",
    "content = requests.get('https://movie.douban.com/chart').text\n",
    "# 豆瓣电影排行榜\n",
    "pattern = re.compile('class=\"pl2\".*?<.*?=\"(.*?)\".*?>(.*?)<span.*?>(.*?)</span>.*?\"rating_nums\">(.*?)</span>.*?\"pl\">(.*?)</span>', re.S)\n",
    "# compile可以在多次使用中提高效率，这里影响不大\n",
    "results = re.findall(pattern, content)\n",
    "for result in results:\n",
    "    url, name1, name2, nums, pl = result\n",
    "    print(url, name1.replace(\"/\",\"\").strip(), name2.replace(\"/\",\"\").strip(), nums, pl)\n"
   ],
   "outputs": [],
   "metadata": {}
  },
  {
   "cell_type": "code",
   "execution_count": 29,
   "source": [
    "import pdfplumber\n",
    "\n",
    "import os\n",
    " \n",
    "#提取一页文字\n",
    "def extract_text_onepage (filepath,wpage):\n",
    " \n",
    "    pdf = pdfplumber.open(filepath)\n",
    "    page = pdf.pages[wpage]\n",
    "    print(page.extract_text())\n",
    "\n",
    "#提取全部文字\n",
    "def extract_text_allpage (filepath):\n",
    " \n",
    "    pdf = pdfplumber.open(filepath)\n",
    " \n",
    "    for page in pdf.pages:\n",
    "        print(page.extract_text())\n",
    "\n",
    "extract_text_allpage(\"/home/samon/Downloads/12314.pdf\")\n"
   ],
   "outputs": [
    {
     "output_type": "stream",
     "name": "stdout",
     "text": [
      "声奈金融学院金融碩士寺立学位沿文坪同表 (匿名坪申\n",
      ")\n",
      "一、学位詮文浮分\n",
      "基千随机森林算法改逃的我国可特換債券多因子逸債模型研究\n",
      "逸題来源千庇用深題或現実同題,座有明碗的取並背景\n",
      "和庄用介値。文献同減庁淫,熟悉本飯域国内外劫恣\n",
      ",\n",
      "察述有一定的片度和深度。\n",
      "基硼知沢才L実,整体没汁合理,研究思路清晰,研究方\n",
      "法恰当,研究歩環和辻程科学規疱;具有家合込用知沢、\n",
      "分析同題和凋査研究的能力。\n",
      "①案例研究的研究結沿有助千解決咳案例及癸似案例\n",
      "理沿与方法 提供有益希助;②金融声品没汁道程可行,声品策略、\n",
      "第杓、功能完整、合理、有敷;金融実践同題解決方案\n",
      "対実践具有指早意文和可操作性;③凋研報告的凋査方\n",
      "案没汁合理可行,数据資料充分可皐,有明碗的凋研鈷\n",
      "沿。④研究沿文具有創新性,解決実際同題能力較張。\n",
      "沿文成果対実践同題的探村与解析具有参考倫値和借\n",
      "釜意文;具有一定的社会敷益、経済敷益或学木貢献。\n",
      "有一定的新思想、新規点; 或有一定程度的方法含J新\n",
      "メ提出了新的対策、建波。 ;\n",
      "格守学木城信、学木道徳和学木規疱;辺輯性張、結杓\n",
      "沿文規疱性 芦瑾、文字通順流暢:弓1注、参考文献 (中外文)、 文\n",
      "字、国表等准碗和規疱;英文摘要悟句通順,悟法正碗。\n",
      "忌分≒是否同意答丼的美系如下\n",
      ":\n",
      "  忌分>70分,同意参加答丼\n",
      "忌 分 3\n",
      "<70,修\n",
      "60く意分 改后可以参加答丼\n",
      "<60,不 ;\n",
      "忌分 同意参加答丼。\n",
      "1.根泉没据班十形ち国金芥式七院融学不実住践同。力同、有題解夫_決i_オ件精茉神、凋,寺研薇上薔学位、研的学究仁沿奄丈丈等形,学式有仁沿多神丈形,致式口案不4同Jll,分共析研、金究融成声果品的\n",
      "2.本表双面ぉ′\n",
      "F。\n",
      "二、学位沿文坪悟\n",
      "(清双沿文形式、逸題来源、泣用倫値、理給与方法、沿文規疱性等方面逆行坪倫,対\n",
      "沿文不足之赴作出具体悦明 尤其是逸捧坪波結果的2或 3吋\n",
      ", )\n",
      "沿丈基子随れ森林算法建立可キ債辻債模型,友現随れ森林迄債模型IElレヒ竹坑的多\n",
      "因子模型共有又仇的表現。沿丈地逝有一定的現実意丈,仁allttll■喀ヱ不足。\n",
      "全丈思路レヒ校清晰,晨次発杓姜排也絞ヵ合理,悟 旬近順,仁也存在以下不足或可\n",
      "以茂辻えた:1.迪捧随れ森林品J卜典他れ器学刀算法的理IIb需 要史清晰地か以 迷;2.\n",
      "|ョ\n",
      "沿丈スえ筒羊ltL者某一神れ器学ヨ算法か以泣用,在方法的貪敲方面装弱。\n",
      "′き体品言,沿丈込到項士学位沿丈的基本要求,同 意答寿。\n",
      "坪申寺家釜名: 統 2021年 5月 9日\n",
      "1。 本沿文己迷到寺並学位碩 沿文水平要求,可以参加答丼。\n",
      "(意分>70分\n",
      ")\n",
      "坪波結果\n",
      "2.本\n",
      "(清在相庇空格 沿文基本迷到寺並学位硬士沿文水平要求,修改后可以参\n",
      "赴打マ) 加答丼。 (60く意分<70,清在坪悟中注明具体修改意見)\n",
      "3。 本沿文未迷到寺立学位硬士沿文水平要求,不同意参加答丼。\n",
      "<60,清\n",
      "(′強分 在坪悟中具体滉明有美理由\n",
      ")\n"
     ]
    }
   ],
   "metadata": {}
  },
  {
   "cell_type": "code",
   "execution_count": null,
   "source": [],
   "outputs": [],
   "metadata": {}
  }
 ],
 "metadata": {
  "orig_nbformat": 4,
  "language_info": {
   "name": "python",
   "version": "3.8.8",
   "mimetype": "text/x-python",
   "codemirror_mode": {
    "name": "ipython",
    "version": 3
   },
   "pygments_lexer": "ipython3",
   "nbconvert_exporter": "python",
   "file_extension": ".py"
  },
  "kernelspec": {
   "name": "python3",
   "display_name": "Python 3.8.8 64-bit ('base': conda)"
  },
  "interpreter": {
   "hash": "f50bd5474255f82aa829301912ce59e29110123be660cf8d7583f66a20371684"
  }
 },
 "nbformat": 4,
 "nbformat_minor": 2
}