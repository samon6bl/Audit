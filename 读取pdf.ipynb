{
 "cells": [
  {
   "cell_type": "code",
   "execution_count": 5,
   "source": [
    "#!/usr/bin/env python\n",
    "# -*- coding: utf-8 -*-\n",
    "from pdfminer.pdfparser import PDFParser\n",
    "from pdfminer.pdfdocument import PDFDocument\n",
    "from pdfminer.pdfpage import PDFPage, PDFTextExtractionNotAllowed\n",
    "from pdfminer.pdfinterp import PDFResourceManager, PDFPageInterpreter\n",
    "from pdfminer.converter import PDFPageAggregator\n",
    "from pdfminer.layout import LAParams\n",
    "from io import StringIO\n",
    "\n",
    "\n",
    "class PDFUtils():\n",
    "\n",
    "    def __init__(self):\n",
    "        pass\n",
    "\n",
    "    def pdf2txt(self, path):\n",
    "        output = StringIO()\n",
    "        with open(path, 'rb') as f:\n",
    "            praser = PDFParser(f)\n",
    "\n",
    "            doc = PDFDocument(praser)\n",
    "\n",
    "            if not doc.is_extractable:\n",
    "                raise PDFTextExtractionNotAllowed\n",
    "\n",
    "            pdfrm = PDFResourceManager()\n",
    "\n",
    "            laparams = LAParams()\n",
    "\n",
    "            device = PDFPageAggregator(pdfrm, laparams=laparams)\n",
    "\n",
    "            interpreter = PDFPageInterpreter(pdfrm, device)\n",
    "\n",
    "            for page in PDFPage.create_pages(doc):\n",
    "                interpreter.process_page(page)\n",
    "                layout = device.get_result()\n",
    "                for x in layout:\n",
    "                    if hasattr(x, \"get_text\"):\n",
    "                        content = x.get_text()\n",
    "                        output.write(content)\n",
    "\n",
    "        content = output.getvalue()\n",
    "        output.close()\n",
    "        return content\n",
    "\n",
    "\n",
    "if __name__ == '__main__':\n",
    "    path = u'/home/samon/Downloads/12314.pdf'\n",
    "    pdf_utils = PDFUtils()\n",
    "\n",
    "    print(pdf_utils.pdf2txt(path))"
   ],
   "outputs": [
    {
     "output_type": "stream",
     "name": "stdout",
     "text": [
      "声奈金融学院金融碩士寺立学位沿文坪同表 (匿 名坪申)\n",
      "一 、学位詮文浮分\n",
      "基千随机森林算法改逃的我国可特換債券多因子逸債模型研究\n",
      "理沿与方法\n",
      "逸題来源千庇用深題或現実同題,座 有明碗的取並背景\n",
      "和庄用介値 。文献同減庁淫,熟 悉本飯域国内外劫恣 ,\n",
      "察述有一定的片度和深度。\n",
      "基硼知沢才L実 ,整 体没汁合理,研 究思路清晰,研 究方\n",
      "法恰当,研 究歩環和辻程科学規疱;具 有家合込用知沢、\n",
      "分析同題和凋査研究的能力。\n",
      "①案例研 究的研究結沿有助千解決咳案例及癸似案例\n",
      "提供有益希助;② 金融声品没汁道程可行,声 品策略、\n",
      "第杓、功能完整、合理、有敷;金 融実践同題解決方案\n",
      "対実践具有指早意文和可操作性;③ 凋研報告的凋査方\n",
      "案没汁合理可行,数 据資料充分可皐,有 明碗的凋研鈷\n",
      "沿。④研究沿文具有創新性,解 決実際同題能力較張。\n",
      "沿 文 成 果 対 実 践 同題 的探 村 与解 析 具 有 参 考 倫 値 和 借\n",
      "釜 意文 ;具 有 一定 的社会 敷益 、経済 敷益或 学木貢 献 。\n",
      "有一定的新思想、新規点 ;\n",
      "メ提出了新的対策、建波。\n",
      "或有一定程度的方法含J新 ;\n",
      "沿文規 疱性\n",
      "格守学木城信、学木道徳和学木規疱;辺 輯性張、結杓\n",
      "芦瑾、文字通順流暢:弓 1注 、参考文献 (中 外文 )、 文\n",
      "字、国表等准碗和規疱;英 文摘要悟句通順,悟 法正碗。\n",
      "忌  分\n",
      "忌分≒是否同意答丼的美系如下:\n",
      "忌分>70分 ,同 意参加答丼 3\n",
      "60く 意分<70,修 改后可以参加答丼 ;\n",
      "忌分<60,不 同意参加答丼。\n",
      "1.根 据 国芥院学住 力、有 夫_i_件 精神 ,寺 上学位 的学仁奄 丈形 式有 多神 ,致口案4Jll分 析 、金融声品\n",
      "没十ち金 融実践 同題解 決オ茉、凋研薇薔 、研 究沿 丈等,学 仁沿 丈形 式不 同,共 研 究成果的\n",
      "泉班形 式七不 同。\n",
      "2.本 表双面ぉ′F。\n",
      "二 、学位沿文坪悟\n",
      "(清 双 沿文形 式 、逸題 来源 、\n",
      "沿文不足之赴作 出具体 悦 明 ,\n",
      "泣用倫値、理給与方法、沿文規疱性等方面逆行坪倫,対\n",
      "尤其是逸捧坪波結果的 2或 3吋 )\n",
      "沿 丈基 子随れ 森林 算 法建 立 可キ債辻債模 型 ,友 現 随れ森 林迄債模 型 IElレ ヒ竹坑的多\n",
      "因子模 型共有又仇 的表 現 。沿 丈地逝 有一定的現 実意 丈,仁 allttll■ 喀 ヱ不足 。\n",
      "全丈思路 レヒ校 清晰 ,晨 次 発杓姜排 也絞 ヵ合理 ,悟 旬近順 ,仁 也存在 以下不足 或可\n",
      "以茂辻 え た :1.迪 捧 随れ森 林 品J卜 典他れ 器学 刀算 法 的理 IIb需 要 史 清晰地か 以|ョ 迷 ;2.\n",
      "沿 丈スえ 筒羊ltL者 某一神れ 器学 ヨ算 法か 以泣 用,在 方法的貪 敲 方 面装 弱 。\n",
      "′き体 品言,沿 丈込 到項 士 学位沿 丈 的基 本要 求,同 意答 寿 。\n",
      "坪申寺家釜名 : 統\n",
      "2021年 5月 9日\n",
      "坪波結果\n",
      "(清 在相庇空格\n",
      "赴打マ)\n",
      "沿文水平要求 ,可 以参加答丼 。\n",
      "1。 本沿文 己迷到寺並学位碩\n",
      "(意 分>70分 )\n",
      "2.本 沿文基本迷到寺並学位硬士沿文水平要求,修 改后可以参\n",
      "加答丼。 (60く 意分<70,清 在坪悟中注明具体修改意見 )\n",
      "3。 本沿文未迷到寺立学位硬士沿文水平要求,不 同意参加答丼。\n",
      "(′強分<60,清 在坪悟中具体滉明有美理由)\n",
      "\n"
     ]
    }
   ],
   "metadata": {}
  },
  {
   "cell_type": "code",
   "execution_count": 11,
   "source": [
    "import camelot\n",
    "import pandas as pd\n",
    "tables = camelot.read_pdf(\"/home/samon/Downloads/12314.pdf\")\n",
    "a = tables[0]\n",
    "a"
   ],
   "outputs": [
    {
     "output_type": "error",
     "ename": "IndexError",
     "evalue": "list index out of range",
     "traceback": [
      "\u001b[0;31m---------------------------------------------------------------------------\u001b[0m",
      "\u001b[0;31mIndexError\u001b[0m                                Traceback (most recent call last)",
      "\u001b[0;32m/tmp/ipykernel_21910/620008739.py\u001b[0m in \u001b[0;36m<module>\u001b[0;34m\u001b[0m\n\u001b[1;32m      2\u001b[0m \u001b[0;32mimport\u001b[0m \u001b[0mpandas\u001b[0m \u001b[0;32mas\u001b[0m \u001b[0mpd\u001b[0m\u001b[0;34m\u001b[0m\u001b[0;34m\u001b[0m\u001b[0m\n\u001b[1;32m      3\u001b[0m \u001b[0mtables\u001b[0m \u001b[0;34m=\u001b[0m \u001b[0mcamelot\u001b[0m\u001b[0;34m.\u001b[0m\u001b[0mread_pdf\u001b[0m\u001b[0;34m(\u001b[0m\u001b[0;34m\"/home/samon/Downloads/12314.pdf\"\u001b[0m\u001b[0;34m)\u001b[0m\u001b[0;34m\u001b[0m\u001b[0;34m\u001b[0m\u001b[0m\n\u001b[0;32m----> 4\u001b[0;31m \u001b[0ma\u001b[0m \u001b[0;34m=\u001b[0m \u001b[0mtables\u001b[0m\u001b[0;34m[\u001b[0m\u001b[0;36m0\u001b[0m\u001b[0;34m]\u001b[0m\u001b[0;34m\u001b[0m\u001b[0;34m\u001b[0m\u001b[0m\n\u001b[0m\u001b[1;32m      5\u001b[0m \u001b[0ma\u001b[0m\u001b[0;34m\u001b[0m\u001b[0;34m\u001b[0m\u001b[0m\n",
      "\u001b[0;32m~/.conda/envs/audit/lib/python3.9/site-packages/camelot/core.py\u001b[0m in \u001b[0;36m__getitem__\u001b[0;34m(self, idx)\u001b[0m\n\u001b[1;32m    687\u001b[0m \u001b[0;34m\u001b[0m\u001b[0m\n\u001b[1;32m    688\u001b[0m     \u001b[0;32mdef\u001b[0m \u001b[0m__getitem__\u001b[0m\u001b[0;34m(\u001b[0m\u001b[0mself\u001b[0m\u001b[0;34m,\u001b[0m \u001b[0midx\u001b[0m\u001b[0;34m)\u001b[0m\u001b[0;34m:\u001b[0m\u001b[0;34m\u001b[0m\u001b[0;34m\u001b[0m\u001b[0m\n\u001b[0;32m--> 689\u001b[0;31m         \u001b[0;32mreturn\u001b[0m \u001b[0mself\u001b[0m\u001b[0;34m.\u001b[0m\u001b[0m_tables\u001b[0m\u001b[0;34m[\u001b[0m\u001b[0midx\u001b[0m\u001b[0;34m]\u001b[0m\u001b[0;34m\u001b[0m\u001b[0;34m\u001b[0m\u001b[0m\n\u001b[0m\u001b[1;32m    690\u001b[0m \u001b[0;34m\u001b[0m\u001b[0m\n\u001b[1;32m    691\u001b[0m     \u001b[0;34m@\u001b[0m\u001b[0mstaticmethod\u001b[0m\u001b[0;34m\u001b[0m\u001b[0;34m\u001b[0m\u001b[0m\n",
      "\u001b[0;31mIndexError\u001b[0m: list index out of range"
     ]
    }
   ],
   "metadata": {}
  },
  {
   "cell_type": "code",
   "execution_count": null,
   "source": [],
   "outputs": [],
   "metadata": {}
  },
  {
   "cell_type": "code",
   "execution_count": null,
   "source": [],
   "outputs": [],
   "metadata": {}
  }
 ],
 "metadata": {
  "orig_nbformat": 4,
  "language_info": {
   "name": "python",
   "version": "3.9.7",
   "mimetype": "text/x-python",
   "codemirror_mode": {
    "name": "ipython",
    "version": 3
   },
   "pygments_lexer": "ipython3",
   "nbconvert_exporter": "python",
   "file_extension": ".py"
  },
  "kernelspec": {
   "name": "python3",
   "display_name": "Python 3.9.7 64-bit ('audit': conda)"
  },
  "interpreter": {
   "hash": "7f7932513bf85e429fb6c8100b9e04c00c5b0a65cf206d47d798d47f69674148"
  }
 },
 "nbformat": 4,
 "nbformat_minor": 2
}