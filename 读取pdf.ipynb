{
 "cells": [
  {
   "cell_type": "code",
   "execution_count": 8,
   "source": [
    "#!/usr/bin/env python\n",
    "# -*- coding: utf-8 -*-\n",
    "from pdfminer.pdfparser import PDFParser\n",
    "from pdfminer.pdfdocument import PDFDocument\n",
    "from pdfminer.pdfpage import PDFPage, PDFTextExtractionNotAllowed\n",
    "from pdfminer.pdfinterp import PDFResourceManager, PDFPageInterpreter\n",
    "from pdfminer.converter import PDFPageAggregator\n",
    "from pdfminer.layout import LAParams\n",
    "from io import StringIO\n",
    "\n",
    "\n",
    "class PDFUtils():\n",
    "\n",
    "    def __init__(self):\n",
    "        pass\n",
    "\n",
    "    def pdf2txt(self, path):\n",
    "        output = StringIO()\n",
    "        with open(path, 'rb') as f:\n",
    "            praser = PDFParser(f)\n",
    "\n",
    "            doc = PDFDocument(praser)\n",
    "\n",
    "            if not doc.is_extractable:\n",
    "                raise PDFTextExtractionNotAllowed\n",
    "\n",
    "            pdfrm = PDFResourceManager()\n",
    "\n",
    "            laparams = LAParams()\n",
    "\n",
    "            device = PDFPageAggregator(pdfrm, laparams=laparams)\n",
    "\n",
    "            interpreter = PDFPageInterpreter(pdfrm, device)\n",
    "\n",
    "            for page in PDFPage.create_pages(doc):\n",
    "                interpreter.process_page(page)\n",
    "                layout = device.get_result()\n",
    "                for x in layout:\n",
    "                    if hasattr(x, \"get_text\"):\n",
    "                        content = x.get_text()\n",
    "                        output.write(content)\n",
    "\n",
    "        content = output.getvalue()\n",
    "        output.close()\n",
    "        return content\n",
    "\n",
    "\n",
    "if __name__ == '__main__':\n",
    "    path = '/home/samon/Downloads/12314.pdf'\n",
    "    pdf_utils = PDFUtils()\n",
    "\n",
    "    print(pdf_utils.pdf2txt(path))"
   ],
   "outputs": [
    {
     "output_type": "stream",
     "name": "stdout",
     "text": [
      "声奈金融学院金融碩士寺立学位沿文坪同表 (匿 名坪申)\n",
      "一 、学位詮文浮分\n",
      "基千随机森林算法改逃的我国可特換債券多因子逸債模型研究\n",
      "理沿与方法\n",
      "逸題来源千庇用深題或現実同題,座 有明碗的取並背景\n",
      "和庄用介値 。文献同減庁淫,熟 悉本飯域国内外劫恣 ,\n",
      "察述有一定的片度和深度。\n",
      "基硼知沢才L実 ,整 体没汁合理,研 究思路清晰,研 究方\n",
      "法恰当,研 究歩環和辻程科学規疱;具 有家合込用知沢、\n",
      "分析同題和凋査研究的能力。\n",
      "①案例研 究的研究結沿有助千解決咳案例及癸似案例\n",
      "提供有益希助;② 金融声品没汁道程可行,声 品策略、\n",
      "第杓、功能完整、合理、有敷;金 融実践同題解決方案\n",
      "対実践具有指早意文和可操作性;③ 凋研報告的凋査方\n",
      "案没汁合理可行,数 据資料充分可皐,有 明碗的凋研鈷\n",
      "沿。④研究沿文具有創新性,解 決実際同題能力較張。\n",
      "沿 文 成 果 対 実 践 同題 的探 村 与解 析 具 有 参 考 倫 値 和 借\n",
      "釜 意文 ;具 有 一定 的社会 敷益 、経済 敷益或 学木貢 献 。\n",
      "有一定的新思想、新規点 ;\n",
      "メ提出了新的対策、建波。\n",
      "或有一定程度的方法含J新 ;\n",
      "沿文規 疱性\n",
      "格守学木城信、学木道徳和学木規疱;辺 輯性張、結杓\n",
      "芦瑾、文字通順流暢:弓 1注 、参考文献 (中 外文 )、 文\n",
      "字、国表等准碗和規疱;英 文摘要悟句通順,悟 法正碗。\n",
      "忌  分\n",
      "忌分≒是否同意答丼的美系如下:\n",
      "忌分>70分 ,同 意参加答丼 3\n",
      "60く 意分<70,修 改后可以参加答丼 ;\n",
      "忌分<60,不 同意参加答丼。\n",
      "1.根 据 国芥院学住 力、有 夫_i_件 精神 ,寺 上学位 的学仁奄 丈形 式有 多神 ,致口案4Jll分 析 、金融声品\n",
      "没十ち金 融実践 同題解 決オ茉、凋研薇薔 、研 究沿 丈等,学 仁沿 丈形 式不 同,共 研 究成果的\n",
      "泉班形 式七不 同。\n",
      "2.本 表双面ぉ′F。\n",
      "二 、学位沿文坪悟\n",
      "(清 双 沿文形 式 、逸題 来源 、\n",
      "沿文不足之赴作 出具体 悦 明 ,\n",
      "泣用倫値、理給与方法、沿文規疱性等方面逆行坪倫,対\n",
      "尤其是逸捧坪波結果的 2或 3吋 )\n",
      "沿 丈基 子随れ 森林 算 法建 立 可キ債辻債模 型 ,友 現 随れ森 林迄債模 型 IElレ ヒ竹坑的多\n",
      "因子模 型共有又仇 的表 現 。沿 丈地逝 有一定的現 実意 丈,仁 allttll■ 喀 ヱ不足 。\n",
      "全丈思路 レヒ校 清晰 ,晨 次 発杓姜排 也絞 ヵ合理 ,悟 旬近順 ,仁 也存在 以下不足 或可\n",
      "以茂辻 え た :1.迪 捧 随れ森 林 品J卜 典他れ 器学 刀算 法 的理 IIb需 要 史 清晰地か 以|ョ 迷 ;2.\n",
      "沿 丈スえ 筒羊ltL者 某一神れ 器学 ヨ算 法か 以泣 用,在 方法的貪 敲 方 面装 弱 。\n",
      "′き体 品言,沿 丈込 到項 士 学位沿 丈 的基 本要 求,同 意答 寿 。\n",
      "坪申寺家釜名 : 統\n",
      "2021年 5月 9日\n",
      "坪波結果\n",
      "(清 在相庇空格\n",
      "赴打マ)\n",
      "沿文水平要求 ,可 以参加答丼 。\n",
      "1。 本沿文 己迷到寺並学位碩\n",
      "(意 分>70分 )\n",
      "2.本 沿文基本迷到寺並学位硬士沿文水平要求,修 改后可以参\n",
      "加答丼。 (60く 意分<70,清 在坪悟中注明具体修改意見 )\n",
      "3。 本沿文未迷到寺立学位硬士沿文水平要求,不 同意参加答丼。\n",
      "(′強分<60,清 在坪悟中具体滉明有美理由)\n",
      "\n"
     ]
    }
   ],
   "metadata": {}
  },
  {
   "cell_type": "code",
   "execution_count": 7,
   "source": [
    "import camelot\n",
    "import pandas as pd\n",
    "tables = camelot.read_pdf(\"/home/samon/Downloads/附件1：2021年注册会计师全国统一考试应考人员安全承诺书（已更新）.pdf\",)\n",
    "a = tables\n",
    "a"
   ],
   "outputs": [
    {
     "output_type": "error",
     "ename": "UnicodeEncodeError",
     "evalue": "'latin-1' codec can't encode characters in position 8-9: ordinal not in range(256)",
     "traceback": [
      "\u001b[0;31m---------------------------------------------------------------------------\u001b[0m",
      "\u001b[0;31mUnicodeEncodeError\u001b[0m                        Traceback (most recent call last)",
      "\u001b[0;32m/tmp/ipykernel_29985/1015645975.py\u001b[0m in \u001b[0;36m<module>\u001b[0;34m\u001b[0m\n\u001b[1;32m      1\u001b[0m \u001b[0;32mimport\u001b[0m \u001b[0mcamelot\u001b[0m\u001b[0;34m\u001b[0m\u001b[0;34m\u001b[0m\u001b[0m\n\u001b[1;32m      2\u001b[0m \u001b[0;32mimport\u001b[0m \u001b[0mpandas\u001b[0m \u001b[0;32mas\u001b[0m \u001b[0mpd\u001b[0m\u001b[0;34m\u001b[0m\u001b[0;34m\u001b[0m\u001b[0m\n\u001b[0;32m----> 3\u001b[0;31m \u001b[0mtables\u001b[0m \u001b[0;34m=\u001b[0m \u001b[0mcamelot\u001b[0m\u001b[0;34m.\u001b[0m\u001b[0mread_pdf\u001b[0m\u001b[0;34m(\u001b[0m\u001b[0;34m\"/home/samon/Downloads/附件1：2021年注册会计师全国统一考试应考人员安全承诺书（已更新）.pdf\"\u001b[0m\u001b[0;34m)\u001b[0m\u001b[0;34m\u001b[0m\u001b[0;34m\u001b[0m\u001b[0m\n\u001b[0m\u001b[1;32m      4\u001b[0m \u001b[0ma\u001b[0m \u001b[0;34m=\u001b[0m \u001b[0mtables\u001b[0m\u001b[0;34m\u001b[0m\u001b[0;34m\u001b[0m\u001b[0m\n\u001b[1;32m      5\u001b[0m \u001b[0ma\u001b[0m\u001b[0;34m\u001b[0m\u001b[0;34m\u001b[0m\u001b[0m\n",
      "\u001b[0;32m~/.conda/envs/audit/lib/python3.9/site-packages/camelot/io.py\u001b[0m in \u001b[0;36mread_pdf\u001b[0;34m(filepath, pages, password, flavor, suppress_stdout, layout_kwargs, **kwargs)\u001b[0m\n\u001b[1;32m    111\u001b[0m         \u001b[0mp\u001b[0m \u001b[0;34m=\u001b[0m \u001b[0mPDFHandler\u001b[0m\u001b[0;34m(\u001b[0m\u001b[0mfilepath\u001b[0m\u001b[0;34m,\u001b[0m \u001b[0mpages\u001b[0m\u001b[0;34m=\u001b[0m\u001b[0mpages\u001b[0m\u001b[0;34m,\u001b[0m \u001b[0mpassword\u001b[0m\u001b[0;34m=\u001b[0m\u001b[0mpassword\u001b[0m\u001b[0;34m)\u001b[0m\u001b[0;34m\u001b[0m\u001b[0;34m\u001b[0m\u001b[0m\n\u001b[1;32m    112\u001b[0m         \u001b[0mkwargs\u001b[0m \u001b[0;34m=\u001b[0m \u001b[0mremove_extra\u001b[0m\u001b[0;34m(\u001b[0m\u001b[0mkwargs\u001b[0m\u001b[0;34m,\u001b[0m \u001b[0mflavor\u001b[0m\u001b[0;34m=\u001b[0m\u001b[0mflavor\u001b[0m\u001b[0;34m)\u001b[0m\u001b[0;34m\u001b[0m\u001b[0;34m\u001b[0m\u001b[0m\n\u001b[0;32m--> 113\u001b[0;31m         tables = p.parse(\n\u001b[0m\u001b[1;32m    114\u001b[0m             \u001b[0mflavor\u001b[0m\u001b[0;34m=\u001b[0m\u001b[0mflavor\u001b[0m\u001b[0;34m,\u001b[0m\u001b[0;34m\u001b[0m\u001b[0;34m\u001b[0m\u001b[0m\n\u001b[1;32m    115\u001b[0m             \u001b[0msuppress_stdout\u001b[0m\u001b[0;34m=\u001b[0m\u001b[0msuppress_stdout\u001b[0m\u001b[0;34m,\u001b[0m\u001b[0;34m\u001b[0m\u001b[0;34m\u001b[0m\u001b[0m\n",
      "\u001b[0;32m~/.conda/envs/audit/lib/python3.9/site-packages/camelot/handlers.py\u001b[0m in \u001b[0;36mparse\u001b[0;34m(self, flavor, suppress_stdout, layout_kwargs, **kwargs)\u001b[0m\n\u001b[1;32m    170\u001b[0m         \u001b[0;32mwith\u001b[0m \u001b[0mTemporaryDirectory\u001b[0m\u001b[0;34m(\u001b[0m\u001b[0;34m)\u001b[0m \u001b[0;32mas\u001b[0m \u001b[0mtempdir\u001b[0m\u001b[0;34m:\u001b[0m\u001b[0;34m\u001b[0m\u001b[0;34m\u001b[0m\u001b[0m\n\u001b[1;32m    171\u001b[0m             \u001b[0;32mfor\u001b[0m \u001b[0mp\u001b[0m \u001b[0;32min\u001b[0m \u001b[0mself\u001b[0m\u001b[0;34m.\u001b[0m\u001b[0mpages\u001b[0m\u001b[0;34m:\u001b[0m\u001b[0;34m\u001b[0m\u001b[0;34m\u001b[0m\u001b[0m\n\u001b[0;32m--> 172\u001b[0;31m                 \u001b[0mself\u001b[0m\u001b[0;34m.\u001b[0m\u001b[0m_save_page\u001b[0m\u001b[0;34m(\u001b[0m\u001b[0mself\u001b[0m\u001b[0;34m.\u001b[0m\u001b[0mfilepath\u001b[0m\u001b[0;34m,\u001b[0m \u001b[0mp\u001b[0m\u001b[0;34m,\u001b[0m \u001b[0mtempdir\u001b[0m\u001b[0;34m)\u001b[0m\u001b[0;34m\u001b[0m\u001b[0;34m\u001b[0m\u001b[0m\n\u001b[0m\u001b[1;32m    173\u001b[0m             \u001b[0mpages\u001b[0m \u001b[0;34m=\u001b[0m \u001b[0;34m[\u001b[0m\u001b[0mos\u001b[0m\u001b[0;34m.\u001b[0m\u001b[0mpath\u001b[0m\u001b[0;34m.\u001b[0m\u001b[0mjoin\u001b[0m\u001b[0;34m(\u001b[0m\u001b[0mtempdir\u001b[0m\u001b[0;34m,\u001b[0m \u001b[0;34mf\"page-{p}.pdf\"\u001b[0m\u001b[0;34m)\u001b[0m \u001b[0;32mfor\u001b[0m \u001b[0mp\u001b[0m \u001b[0;32min\u001b[0m \u001b[0mself\u001b[0m\u001b[0;34m.\u001b[0m\u001b[0mpages\u001b[0m\u001b[0;34m]\u001b[0m\u001b[0;34m\u001b[0m\u001b[0;34m\u001b[0m\u001b[0m\n\u001b[1;32m    174\u001b[0m             \u001b[0mparser\u001b[0m \u001b[0;34m=\u001b[0m \u001b[0mLattice\u001b[0m\u001b[0;34m(\u001b[0m\u001b[0;34m**\u001b[0m\u001b[0mkwargs\u001b[0m\u001b[0;34m)\u001b[0m \u001b[0;32mif\u001b[0m \u001b[0mflavor\u001b[0m \u001b[0;34m==\u001b[0m \u001b[0;34m\"lattice\"\u001b[0m \u001b[0;32melse\u001b[0m \u001b[0mStream\u001b[0m\u001b[0;34m(\u001b[0m\u001b[0;34m**\u001b[0m\u001b[0mkwargs\u001b[0m\u001b[0;34m)\u001b[0m\u001b[0;34m\u001b[0m\u001b[0;34m\u001b[0m\u001b[0m\n",
      "\u001b[0;32m~/.conda/envs/audit/lib/python3.9/site-packages/camelot/handlers.py\u001b[0m in \u001b[0;36m_save_page\u001b[0;34m(self, filepath, page, temp)\u001b[0m\n\u001b[1;32m    118\u001b[0m             \u001b[0moutfile\u001b[0m\u001b[0;34m.\u001b[0m\u001b[0maddPage\u001b[0m\u001b[0;34m(\u001b[0m\u001b[0mp\u001b[0m\u001b[0;34m)\u001b[0m\u001b[0;34m\u001b[0m\u001b[0;34m\u001b[0m\u001b[0m\n\u001b[1;32m    119\u001b[0m             \u001b[0;32mwith\u001b[0m \u001b[0mopen\u001b[0m\u001b[0;34m(\u001b[0m\u001b[0mfpath\u001b[0m\u001b[0;34m,\u001b[0m \u001b[0;34m\"wb\"\u001b[0m\u001b[0;34m)\u001b[0m \u001b[0;32mas\u001b[0m \u001b[0mf\u001b[0m\u001b[0;34m:\u001b[0m\u001b[0;34m\u001b[0m\u001b[0;34m\u001b[0m\u001b[0m\n\u001b[0;32m--> 120\u001b[0;31m                 \u001b[0moutfile\u001b[0m\u001b[0;34m.\u001b[0m\u001b[0mwrite\u001b[0m\u001b[0;34m(\u001b[0m\u001b[0mf\u001b[0m\u001b[0;34m)\u001b[0m\u001b[0;34m\u001b[0m\u001b[0;34m\u001b[0m\u001b[0m\n\u001b[0m\u001b[1;32m    121\u001b[0m             \u001b[0mlayout\u001b[0m\u001b[0;34m,\u001b[0m \u001b[0mdim\u001b[0m \u001b[0;34m=\u001b[0m \u001b[0mget_page_layout\u001b[0m\u001b[0;34m(\u001b[0m\u001b[0mfpath\u001b[0m\u001b[0;34m)\u001b[0m\u001b[0;34m\u001b[0m\u001b[0;34m\u001b[0m\u001b[0m\n\u001b[1;32m    122\u001b[0m             \u001b[0;31m# fix rotated PDF\u001b[0m\u001b[0;34m\u001b[0m\u001b[0;34m\u001b[0m\u001b[0m\n",
      "\u001b[0;32m~/.conda/envs/audit/lib/python3.9/site-packages/PyPDF2/pdf.py\u001b[0m in \u001b[0;36mwrite\u001b[0;34m(self, stream)\u001b[0m\n\u001b[1;32m    499\u001b[0m                 \u001b[0mmd5_hash\u001b[0m \u001b[0;34m=\u001b[0m \u001b[0mmd5\u001b[0m\u001b[0;34m(\u001b[0m\u001b[0mkey\u001b[0m\u001b[0;34m)\u001b[0m\u001b[0;34m.\u001b[0m\u001b[0mdigest\u001b[0m\u001b[0;34m(\u001b[0m\u001b[0;34m)\u001b[0m\u001b[0;34m\u001b[0m\u001b[0;34m\u001b[0m\u001b[0m\n\u001b[1;32m    500\u001b[0m                 \u001b[0mkey\u001b[0m \u001b[0;34m=\u001b[0m \u001b[0mmd5_hash\u001b[0m\u001b[0;34m[\u001b[0m\u001b[0;34m:\u001b[0m\u001b[0mmin\u001b[0m\u001b[0;34m(\u001b[0m\u001b[0;36m16\u001b[0m\u001b[0;34m,\u001b[0m \u001b[0mlen\u001b[0m\u001b[0;34m(\u001b[0m\u001b[0mself\u001b[0m\u001b[0;34m.\u001b[0m\u001b[0m_encrypt_key\u001b[0m\u001b[0;34m)\u001b[0m \u001b[0;34m+\u001b[0m \u001b[0;36m5\u001b[0m\u001b[0;34m)\u001b[0m\u001b[0;34m]\u001b[0m\u001b[0;34m\u001b[0m\u001b[0;34m\u001b[0m\u001b[0m\n\u001b[0;32m--> 501\u001b[0;31m             \u001b[0mobj\u001b[0m\u001b[0;34m.\u001b[0m\u001b[0mwriteToStream\u001b[0m\u001b[0;34m(\u001b[0m\u001b[0mstream\u001b[0m\u001b[0;34m,\u001b[0m \u001b[0mkey\u001b[0m\u001b[0;34m)\u001b[0m\u001b[0;34m\u001b[0m\u001b[0;34m\u001b[0m\u001b[0m\n\u001b[0m\u001b[1;32m    502\u001b[0m             \u001b[0mstream\u001b[0m\u001b[0;34m.\u001b[0m\u001b[0mwrite\u001b[0m\u001b[0;34m(\u001b[0m\u001b[0mb_\u001b[0m\u001b[0;34m(\u001b[0m\u001b[0;34m\"\\nendobj\\n\"\u001b[0m\u001b[0;34m)\u001b[0m\u001b[0;34m)\u001b[0m\u001b[0;34m\u001b[0m\u001b[0;34m\u001b[0m\u001b[0m\n\u001b[1;32m    503\u001b[0m \u001b[0;34m\u001b[0m\u001b[0m\n",
      "\u001b[0;32m~/.conda/envs/audit/lib/python3.9/site-packages/PyPDF2/generic.py\u001b[0m in \u001b[0;36mwriteToStream\u001b[0;34m(self, stream, encryption_key)\u001b[0m\n\u001b[1;32m    547\u001b[0m             \u001b[0mkey\u001b[0m\u001b[0;34m.\u001b[0m\u001b[0mwriteToStream\u001b[0m\u001b[0;34m(\u001b[0m\u001b[0mstream\u001b[0m\u001b[0;34m,\u001b[0m \u001b[0mencryption_key\u001b[0m\u001b[0;34m)\u001b[0m\u001b[0;34m\u001b[0m\u001b[0;34m\u001b[0m\u001b[0m\n\u001b[1;32m    548\u001b[0m             \u001b[0mstream\u001b[0m\u001b[0;34m.\u001b[0m\u001b[0mwrite\u001b[0m\u001b[0;34m(\u001b[0m\u001b[0mb_\u001b[0m\u001b[0;34m(\u001b[0m\u001b[0;34m\" \"\u001b[0m\u001b[0;34m)\u001b[0m\u001b[0;34m)\u001b[0m\u001b[0;34m\u001b[0m\u001b[0;34m\u001b[0m\u001b[0m\n\u001b[0;32m--> 549\u001b[0;31m             \u001b[0mvalue\u001b[0m\u001b[0;34m.\u001b[0m\u001b[0mwriteToStream\u001b[0m\u001b[0;34m(\u001b[0m\u001b[0mstream\u001b[0m\u001b[0;34m,\u001b[0m \u001b[0mencryption_key\u001b[0m\u001b[0;34m)\u001b[0m\u001b[0;34m\u001b[0m\u001b[0;34m\u001b[0m\u001b[0m\n\u001b[0m\u001b[1;32m    550\u001b[0m             \u001b[0mstream\u001b[0m\u001b[0;34m.\u001b[0m\u001b[0mwrite\u001b[0m\u001b[0;34m(\u001b[0m\u001b[0mb_\u001b[0m\u001b[0;34m(\u001b[0m\u001b[0;34m\"\\n\"\u001b[0m\u001b[0;34m)\u001b[0m\u001b[0;34m)\u001b[0m\u001b[0;34m\u001b[0m\u001b[0;34m\u001b[0m\u001b[0m\n\u001b[1;32m    551\u001b[0m         \u001b[0mstream\u001b[0m\u001b[0;34m.\u001b[0m\u001b[0mwrite\u001b[0m\u001b[0;34m(\u001b[0m\u001b[0mb_\u001b[0m\u001b[0;34m(\u001b[0m\u001b[0;34m\">>\"\u001b[0m\u001b[0;34m)\u001b[0m\u001b[0;34m)\u001b[0m\u001b[0;34m\u001b[0m\u001b[0;34m\u001b[0m\u001b[0m\n",
      "\u001b[0;32m~/.conda/envs/audit/lib/python3.9/site-packages/PyPDF2/generic.py\u001b[0m in \u001b[0;36mwriteToStream\u001b[0;34m(self, stream, encryption_key)\u001b[0m\n\u001b[1;32m    470\u001b[0m \u001b[0;34m\u001b[0m\u001b[0m\n\u001b[1;32m    471\u001b[0m     \u001b[0;32mdef\u001b[0m \u001b[0mwriteToStream\u001b[0m\u001b[0;34m(\u001b[0m\u001b[0mself\u001b[0m\u001b[0;34m,\u001b[0m \u001b[0mstream\u001b[0m\u001b[0;34m,\u001b[0m \u001b[0mencryption_key\u001b[0m\u001b[0;34m)\u001b[0m\u001b[0;34m:\u001b[0m\u001b[0;34m\u001b[0m\u001b[0;34m\u001b[0m\u001b[0m\n\u001b[0;32m--> 472\u001b[0;31m         \u001b[0mstream\u001b[0m\u001b[0;34m.\u001b[0m\u001b[0mwrite\u001b[0m\u001b[0;34m(\u001b[0m\u001b[0mb_\u001b[0m\u001b[0;34m(\u001b[0m\u001b[0mself\u001b[0m\u001b[0;34m)\u001b[0m\u001b[0;34m)\u001b[0m\u001b[0;34m\u001b[0m\u001b[0;34m\u001b[0m\u001b[0m\n\u001b[0m\u001b[1;32m    473\u001b[0m \u001b[0;34m\u001b[0m\u001b[0m\n\u001b[1;32m    474\u001b[0m     \u001b[0;32mdef\u001b[0m \u001b[0mreadFromStream\u001b[0m\u001b[0;34m(\u001b[0m\u001b[0mstream\u001b[0m\u001b[0;34m,\u001b[0m \u001b[0mpdf\u001b[0m\u001b[0;34m)\u001b[0m\u001b[0;34m:\u001b[0m\u001b[0;34m\u001b[0m\u001b[0;34m\u001b[0m\u001b[0m\n",
      "\u001b[0;32m~/.conda/envs/audit/lib/python3.9/site-packages/PyPDF2/utils.py\u001b[0m in \u001b[0;36mb_\u001b[0;34m(s)\u001b[0m\n\u001b[1;32m    236\u001b[0m             \u001b[0;32mreturn\u001b[0m \u001b[0ms\u001b[0m\u001b[0;34m\u001b[0m\u001b[0;34m\u001b[0m\u001b[0m\n\u001b[1;32m    237\u001b[0m         \u001b[0;32melse\u001b[0m\u001b[0;34m:\u001b[0m\u001b[0;34m\u001b[0m\u001b[0;34m\u001b[0m\u001b[0m\n\u001b[0;32m--> 238\u001b[0;31m             \u001b[0mr\u001b[0m \u001b[0;34m=\u001b[0m \u001b[0ms\u001b[0m\u001b[0;34m.\u001b[0m\u001b[0mencode\u001b[0m\u001b[0;34m(\u001b[0m\u001b[0;34m'latin-1'\u001b[0m\u001b[0;34m)\u001b[0m\u001b[0;34m\u001b[0m\u001b[0;34m\u001b[0m\u001b[0m\n\u001b[0m\u001b[1;32m    239\u001b[0m             \u001b[0;32mif\u001b[0m \u001b[0mlen\u001b[0m\u001b[0;34m(\u001b[0m\u001b[0ms\u001b[0m\u001b[0;34m)\u001b[0m \u001b[0;34m<\u001b[0m \u001b[0;36m2\u001b[0m\u001b[0;34m:\u001b[0m\u001b[0;34m\u001b[0m\u001b[0;34m\u001b[0m\u001b[0m\n\u001b[1;32m    240\u001b[0m                 \u001b[0mbc\u001b[0m\u001b[0;34m[\u001b[0m\u001b[0ms\u001b[0m\u001b[0;34m]\u001b[0m \u001b[0;34m=\u001b[0m \u001b[0mr\u001b[0m\u001b[0;34m\u001b[0m\u001b[0;34m\u001b[0m\u001b[0m\n",
      "\u001b[0;31mUnicodeEncodeError\u001b[0m: 'latin-1' codec can't encode characters in position 8-9: ordinal not in range(256)"
     ]
    }
   ],
   "metadata": {}
  },
  {
   "cell_type": "code",
   "execution_count": null,
   "source": [
    "python tools\\conv_cmap.py -c B5=cp950 -c UniCNS-UTF8=utf-8 cmap Adobe-CNS1 cmaprsrc\\cid2code_Adobe_CNS1.txt\n",
    "python tools\\conv_cmap.py -c GBK-EUC=cp936 -c UniGB-UTF8=utf-8 cmap Adobe-GB1 cmaprsrc\\cid2code_Adobe_GB1.txt\n",
    "python tools\\conv_cmap.py -c RKSJ=cp932 -c EUC=euc-jp -c UniJIS-UTF8=utf-8 cmap Adobe-Japan1 cmaprsrc\\cid2code_Adobe_Japan1.txt\n",
    "python tools\\conv_cmap.py -c KSC-EUC=euc-kr -c KSC-Johab=johab -c KSCms-UHC=cp949 -c UniKS-UTF8=utf-8 cmap Adobe-Korea1 cmaprsrc\\cid2code_Adobe_Korea1.txt\n",
    "python setup.py install"
   ],
   "outputs": [],
   "metadata": {}
  },
  {
   "cell_type": "code",
   "execution_count": null,
   "source": [],
   "outputs": [],
   "metadata": {}
  }
 ],
 "metadata": {
  "orig_nbformat": 4,
  "language_info": {
   "name": "python",
   "version": "3.9.7",
   "mimetype": "text/x-python",
   "codemirror_mode": {
    "name": "ipython",
    "version": 3
   },
   "pygments_lexer": "ipython3",
   "nbconvert_exporter": "python",
   "file_extension": ".py"
  },
  "kernelspec": {
   "name": "python3",
   "display_name": "Python 3.9.7 64-bit ('audit': conda)"
  },
  "interpreter": {
   "hash": "7f7932513bf85e429fb6c8100b9e04c00c5b0a65cf206d47d798d47f69674148"
  }
 },
 "nbformat": 4,
 "nbformat_minor": 2
}