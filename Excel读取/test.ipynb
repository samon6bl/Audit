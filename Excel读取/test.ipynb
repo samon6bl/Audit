{
 "cells": [
  {
   "cell_type": "code",
   "execution_count": 21,
   "source": [
    "from openpyxl import load_workbook\n",
    "\n",
    "wb = load_workbook('./new.xlsx',data_only=True)\n",
    "for ws in wb:\n",
    "    print(ws.title)"
   ],
   "outputs": [
    {
     "output_type": "stream",
     "name": "stdout",
     "text": [
      "Sheet1\n"
     ]
    }
   ],
   "metadata": {}
  },
  {
   "cell_type": "code",
   "execution_count": 24,
   "source": [
    "import re\n",
    "\n",
    "content = 'Hello 1234567 is a number. Regex String'\n",
    "result = re.match('^Hello (\\d+).*String$', content)\n",
    "# \"^Hello \" 匹配字符串开头; (\\d+) 匹配任意个数字; .* 匹配任意字符(换行符除外); \n",
    "# String$ 匹配字符串结尾\n",
    "if result:\n",
    "    print(result.group(1)) # 取出第一个括号的内容, 即(\\d+)中的数字 "
   ],
   "outputs": [
    {
     "output_type": "stream",
     "name": "stdout",
     "text": [
      "1234567\n"
     ]
    }
   ],
   "metadata": {}
  },
  {
   "cell_type": "code",
   "execution_count": null,
   "source": [],
   "outputs": [],
   "metadata": {}
  }
 ],
 "metadata": {
  "orig_nbformat": 4,
  "language_info": {
   "name": "python",
   "version": "3.8.8",
   "mimetype": "text/x-python",
   "codemirror_mode": {
    "name": "ipython",
    "version": 3
   },
   "pygments_lexer": "ipython3",
   "nbconvert_exporter": "python",
   "file_extension": ".py"
  },
  "kernelspec": {
   "name": "python3",
   "display_name": "Python 3.8.8 64-bit ('base': conda)"
  },
  "interpreter": {
   "hash": "f50bd5474255f82aa829301912ce59e29110123be660cf8d7583f66a20371684"
  }
 },
 "nbformat": 4,
 "nbformat_minor": 2
}